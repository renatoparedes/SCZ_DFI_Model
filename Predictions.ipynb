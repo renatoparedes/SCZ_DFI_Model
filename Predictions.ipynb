{
 "cells": [
  {
   "cell_type": "markdown",
   "metadata": {},
   "source": [
    "### Predictions"
   ]
  },
  {
   "cell_type": "markdown",
   "metadata": {},
   "source": [
    "#### 4 beeps"
   ]
  },
  {
   "cell_type": "code",
   "execution_count": 1,
   "metadata": {},
   "outputs": [],
   "source": [
    "import matplotlib.pyplot as plt\n",
    "import itertools\n",
    "\n",
    "\n",
    "def plot_neural_input(res, position=15):\n",
    "    plt.plot(res.e_.auditory_total_input[:, position], label=\"Auditory\")\n",
    "    plt.plot(res.e_.visual_total_input[:, position], label=\"Visual\")\n",
    "    plt.plot(res.e_.multi_total_input[:, position], label=\"Multisensory\")\n",
    "    plt.ylabel(\"Neural input\", size=14)\n",
    "    plt.xlabel(\"Time\", size=14)\n",
    "    plt.legend()\n",
    "    plt.show()\n",
    "\n",
    "\n",
    "def plot_res_per_soa(result_list, position=15):\n",
    "    fig, axs = plt.subplots(3, 5, figsize=(16, 8), sharex=True, sharey=True)\n",
    "    idx = -1\n",
    "    for res in result_list:\n",
    "        idx += 1\n",
    "        row, col = idx // 5, idx % 5\n",
    "        sub_plot = res.plot.linet(position=15, ax=axs[row, col])\n",
    "        sub_plot.get_legend().remove()\n",
    "        sub_plot.set_title(\"SOA \" + str(int(res.run_params.soa)) + \" ms\")\n",
    "\n",
    "    handles, labels = sub_plot.get_legend_handles_labels()\n",
    "    fig.legend(handles, labels, loc=\"center right\", borderaxespad=0.1)\n",
    "    plt.subplots_adjust(right=0.935)\n",
    "    plt.show()\n",
    "\n",
    "\n",
    "def calculate_two_peaks_probability(visual_peaks_values):\n",
    "    combinations = list(\n",
    "        itertools.chain.from_iterable(\n",
    "            itertools.combinations(visual_peaks_values, i + 2)\n",
    "            for i in range(len(visual_peaks_values))\n",
    "        )\n",
    "    )\n",
    "\n",
    "    probs_array = np.array([])\n",
    "\n",
    "    for i in combinations:\n",
    "        probs_array = np.append(probs_array, np.array(i).prod())\n",
    "\n",
    "    return probs_array.sum() / probs_array.size"
   ]
  },
  {
   "cell_type": "code",
   "execution_count": 161,
   "metadata": {},
   "outputs": [],
   "source": [
    "from skneuromsi.neural import Paredes2022\n",
    "from joblib import Parallel, delayed\n",
    "import numpy as np\n",
    "from findpeaks import findpeaks\n",
    "from skneuromsi.utils import storages\n",
    "import os\n",
    "from scipy.stats import uniform\n",
    "\n",
    "\n",
    "def myjob_explore_beeps(\n",
    "    soa,\n",
    "    beeps_range,\n",
    "    l_ex,\n",
    "    fb_weight,\n",
    "    cm_weight,\n",
    "    ff_weight,\n",
    "    a_tau,\n",
    "    v_tau,\n",
    "    m_tau,\n",
    "    ff_pruning_threshold,\n",
    "    cm_pruning_threshold,\n",
    "    storage,\n",
    "    storage_idx,\n",
    "):\n",
    "    visual_peak_count = []\n",
    "\n",
    "    model = Paredes2022(\n",
    "        time_range=(0, 800),\n",
    "        neurons=30,\n",
    "        position_range=(0, 30),\n",
    "        tau=(a_tau, v_tau, m_tau),\n",
    "    )\n",
    "\n",
    "    for n_beeps in beeps_range:\n",
    "        res = model.run(\n",
    "            soa=soa,\n",
    "            auditory_stim_n=n_beeps,\n",
    "            auditory_intensity=2.425,  # 2.425\n",
    "            visual_intensity=1.375,  # 1.375\n",
    "            visual_stim_n=1,\n",
    "            auditory_duration=7,\n",
    "            visual_duration=12,\n",
    "            auditory_onset=10,\n",
    "            visual_onset=34,\n",
    "            cross_modal_weight=cm_weight,\n",
    "            feedback_weight=fb_weight,\n",
    "            feedforward_weight=ff_weight,\n",
    "            lateral_excitation=l_ex,\n",
    "            feedforward_pruning_threshold=ff_pruning_threshold,\n",
    "            cross_modal_pruning_threshold=cm_pruning_threshold,\n",
    "            noise=False,\n",
    "            temporal_noise=True,\n",
    "            temporal_noise_scale=5,\n",
    "        )\n",
    "\n",
    "        fp = findpeaks(method=\"topology\", verbose=0, limit=0.40)\n",
    "        fp_results = fp.fit(\n",
    "            res.get_modes(\"visual\").query(\"positions==15\").visual.values\n",
    "        )\n",
    "        visual_peaks_df = fp_results[\"df\"].query(\"peak==True & valley==False\")\n",
    "\n",
    "        # multi_fp_results = fp.fit(res.get_modes(\"multi\").query(\"positions==15\").multi.values)\n",
    "        # multi_peaks_df = multi_fp_results[\"df\"].query(\"peak==True & valley==False\")\n",
    "\n",
    "        visual_peak_count.append(visual_peaks_df[\"score\"].size)\n",
    "    storage[storage_idx] = visual_peak_count"
   ]
  },
  {
   "cell_type": "code",
   "execution_count": 162,
   "metadata": {},
   "outputs": [],
   "source": [
    "soa = 48\n",
    "n_sims = 30\n",
    "beeps_range = np.arange(1, 5)\n",
    "\n",
    "flashes_res = []\n",
    "causes_res = []\n",
    "\n",
    "sim_storage = storages.DirectoryStorage(size=n_sims, tag=\"beeps\")\n",
    "with Parallel(n_jobs=-3) as parallel:\n",
    "    parallel(\n",
    "        delayed(myjob_explore_beeps)(\n",
    "            soa,\n",
    "            beeps_range,\n",
    "            1.6,\n",
    "            2.423e-01,\n",
    "            1.327e-02,\n",
    "            2.461e00,\n",
    "            6.712e00,\n",
    "            2.356e01,\n",
    "            1.175e02,\n",
    "            0,\n",
    "            0,\n",
    "            sim_storage,\n",
    "            sim,\n",
    "        )\n",
    "        for sim in range(n_sims)\n",
    "    )\n",
    "\n",
    "flashes = np.array(sim_storage)\n",
    "flashes_per_beep = flashes.mean(axis=0)\n",
    "\n",
    "sim_storage_scz = storages.DirectoryStorage(size=n_sims, tag=\"beeps_scz\")\n",
    "with Parallel(n_jobs=-3) as parallel:\n",
    "    parallel(\n",
    "        delayed(myjob_explore_beeps)(\n",
    "            soa,\n",
    "            beeps_range,\n",
    "            1.632e00,\n",
    "            2.423e-01,\n",
    "            1.327e-02,\n",
    "            2.461e00,\n",
    "            6.712e00,\n",
    "            2.356e01,\n",
    "            1.175e02,\n",
    "            0,\n",
    "            0,\n",
    "            sim_storage_scz,\n",
    "            sim,\n",
    "        )\n",
    "        for sim in range(n_sims)\n",
    "    )\n",
    "\n",
    "flashes_scz = np.array(sim_storage_scz)\n",
    "flashes_per_beep_scz = flashes_scz.mean(axis=0)"
   ]
  },
  {
   "cell_type": "code",
   "execution_count": 163,
   "metadata": {},
   "outputs": [
    {
     "data": {
      "text/plain": [
       "array([1.33333333, 1.7       , 1.76666667, 1.86666667])"
      ]
     },
     "execution_count": 163,
     "metadata": {},
     "output_type": "execute_result"
    }
   ],
   "source": [
    "flashes_per_beep"
   ]
  },
  {
   "cell_type": "code",
   "execution_count": 164,
   "metadata": {},
   "outputs": [
    {
     "data": {
      "text/plain": [
       "array([1.56666667, 1.73333333, 1.73333333, 1.9       ])"
      ]
     },
     "execution_count": 164,
     "metadata": {},
     "output_type": "execute_result"
    }
   ],
   "source": [
    "flashes_per_beep_scz"
   ]
  },
  {
   "cell_type": "code",
   "execution_count": 165,
   "metadata": {},
   "outputs": [
    {
     "data": {
      "text/plain": [
       "<matplotlib.legend.Legend at 0x7f538f4bfc50>"
      ]
     },
     "execution_count": 165,
     "metadata": {},
     "output_type": "execute_result"
    },
    {
     "data": {
      "image/png": "[encoded data removed]",
      "text/plain": [
       "<Figure size 640x480 with 1 Axes>"
      ]
     },
     "metadata": {},
     "output_type": "display_data"
    }
   ],
   "source": [
    "import matplotlib.pyplot as plt\n",
    "\n",
    "plt.figure(1)\n",
    "plt.plot(beeps_range, flashes_per_beep, label=\"L-SPQ\")\n",
    "plt.plot(beeps_range, flashes_per_beep_scz, label=\"H-SPQ\")\n",
    "plt.ylabel(\"Perceived flashes\")\n",
    "plt.xlabel(\"Beeps\")\n",
    "plt.legend()"
   ]
  },
  {
   "cell_type": "code",
   "execution_count": null,
   "metadata": {},
   "outputs": [],
   "source": [
    "import matplotlib.pyplot as plt\n",
    "\n",
    "plt.figure(1)\n",
    "plt.plot(beeps, flashes_res)\n",
    "plt.ylabel(\"Perceived flashes\")\n",
    "plt.xlabel(\"Beeps\")\n",
    "\n",
    "plt.figure(2)\n",
    "plt.plot(beeps, causes_res)\n",
    "plt.ylabel(\"Perceived causes\")\n",
    "plt.xlabel(\"Beeps\")\n",
    "\n",
    "lex_4b = np.asarray([beeps, flashes_res, causes_res])\n",
    "np.save(\"lex_4b.npy\", lex_4b)"
   ]
  },
  {
   "cell_type": "code",
   "execution_count": null,
   "metadata": {},
   "outputs": [],
   "source": [
    "from joblib import Parallel, delayed\n",
    "import numpy as np\n",
    "from scipy.signal import find_peaks\n",
    "from skneuromsi.neural import Paredes2022\n",
    "\n",
    "\n",
    "def myjob(soa, n_sims, n_beeps):\n",
    "    visual_peak_count = []\n",
    "    peak_count = []\n",
    "    for sim in range(n_sims):\n",
    "        model = Paredes2022(time_range=(0, 400), neurons=30, position_range=(0, 30))\n",
    "        res = model.run(\n",
    "            lateral_excitation=2.15,\n",
    "            auditory_intensity=2.4,\n",
    "            visual_intensity=1.4,\n",
    "            auditory_stim_n=n_beeps,\n",
    "            visual_stim_n=1,\n",
    "            auditory_duration=7,\n",
    "            visual_duration=12,\n",
    "            soa=soa,\n",
    "            noise=True,\n",
    "            noise_level=0.4,\n",
    "            cross_modal_weight=0.075,\n",
    "        )\n",
    "        visual_peaks_idx, _ = find_peaks(\n",
    "            x=res.get_modes(\"visual\").query(\"positions==15\").visual.values,\n",
    "            height=0.40,\n",
    "            prominence=0.15,\n",
    "        )\n",
    "        peaks = res.causes_\n",
    "        peak_count.append(peaks)\n",
    "        visual_peaks = np.size(visual_peaks_idx)\n",
    "        visual_peak_count.append(visual_peaks)\n",
    "    return peak_count, visual_peak_count\n",
    "\n",
    "\n",
    "soa = np.array([48])\n",
    "sims = 100\n",
    "beeps = np.arange(1, 5)\n",
    "flashes_res = []\n",
    "causes_res = []\n",
    "\n",
    "for j in beeps:\n",
    "    with Parallel(n_jobs=-1) as parallel:\n",
    "        res = parallel(delayed(myjob)(i, sims, j) for i in soa)\n",
    "    causes = [i[0] for i in res]\n",
    "    flashes = [i[1] for i in res]\n",
    "\n",
    "    avg_causes = np.mean(causes)\n",
    "    avg_flashes = np.mean(flashes)\n",
    "    causes_res.append(avg_causes)\n",
    "    flashes_res.append(avg_flashes)"
   ]
  },
  {
   "cell_type": "code",
   "execution_count": null,
   "metadata": {},
   "outputs": [],
   "source": [
    "import matplotlib.pyplot as plt\n",
    "\n",
    "plt.figure(1)\n",
    "plt.plot(beeps, flashes_res)\n",
    "plt.ylabel(\"Perceived flashes\")\n",
    "plt.xlabel(\"Beeps\")\n",
    "\n",
    "plt.figure(2)\n",
    "plt.plot(beeps, causes_res)\n",
    "plt.ylabel(\"Perceived causes\")\n",
    "plt.xlabel(\"Beeps\")\n",
    "\n",
    "base_4b = np.asarray([beeps, flashes_res, causes_res])\n",
    "np.save(\"base_4b.npy\", base_4b)"
   ]
  },
  {
   "cell_type": "markdown",
   "metadata": {},
   "source": [
    "#### Plot"
   ]
  },
  {
   "cell_type": "code",
   "execution_count": null,
   "metadata": {},
   "outputs": [],
   "source": [
    "from sklearn.preprocessing import normalize\n",
    "import string\n",
    "\n",
    "lex_4b = np.load(\"lex_4b.npy\")\n",
    "base_4b = np.load(\"base_4b.npy\")\n",
    "\n",
    "fig, axs = plt.subplots(1, 2, figsize=(15, 4.5), dpi=600)\n",
    "size = 5\n",
    "\n",
    "ax1 = plt.subplot(121)\n",
    "ax1.plot(lex_4b[0], lex_4b[1], label=r\"$L_{ex}^{s} = 2.25$\", color=\"k\", marker=\"^\")\n",
    "ax1.plot(base_4b[0], base_4b[1], label=r\"$L_{ex}^{s} = 2$\", color=\"k\", marker=\"o\")\n",
    "# ax1.plot(np.linspace(0,.75,size),np.repeat(70.38,size),'--',label='SCZ',color='0.5')\n",
    "# ax1.plot(np.linspace(0,.75,size),np.repeat(73.75,size),':',label='H-SPQ',color='0.5')\n",
    "ax1.set_ylabel(\"Perceived flashes\", size=14)\n",
    "ax1.set_xlabel(\"Beeps\", size=14)\n",
    "leg = ax1.legend(fontsize=13)\n",
    "ax1.text(\n",
    "    -0.1,\n",
    "    1.1,\n",
    "    string.ascii_uppercase[0],\n",
    "    transform=ax1.transAxes,\n",
    "    size=20,\n",
    "    weight=\"bold\",\n",
    ")\n",
    "\n",
    "ax2 = plt.subplot(122)\n",
    "ax2.plot(lex_4b[0], lex_4b[2], label=r\"$L_{ex}^{s} = 2.25$\", color=\"k\", marker=\"^\")\n",
    "ax2.plot(base_4b[0], base_4b[2], label=r\"$L_{ex}^{s} = 2.15$\", color=\"k\", marker=\"o\")\n",
    "ax2.set_ylabel(\"Perceived causes\", size=14)\n",
    "ax2.set_xlabel(\"Beeps\", size=14)\n",
    "leg = ax2.legend(fontsize=13)\n",
    "ax2.text(\n",
    "    -0.1,\n",
    "    1.1,\n",
    "    string.ascii_uppercase[1],\n",
    "    transform=ax2.transAxes,\n",
    "    size=20,\n",
    "    weight=\"bold\",\n",
    ")\n",
    "\n",
    "# fig.savefig('FIG5.eps', bbox_inches='tight', format = 'eps')"
   ]
  }
 ],
 "metadata": {
  "kernelspec": {
   "display_name": "neuromsi",
   "language": "python",
   "name": "python3"
  },
  "language_info": {
   "codemirror_mode": {
    "name": "ipython",
    "version": 3
   },
   "file_extension": ".py",
   "mimetype": "text/x-python",
   "name": "python",
   "nbconvert_exporter": "python",
   "pygments_lexer": "ipython3",
   "version": "3.11.6"
  }
 },
 "nbformat": 4,
 "nbformat_minor": 2
}
